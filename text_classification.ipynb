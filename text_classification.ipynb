{
  "nbformat": 4,
  "nbformat_minor": 0,
  "metadata": {
    "colab": {
      "name": "text_classification.ipynb",
      "provenance": [],
      "authorship_tag": "ABX9TyPXvt9sjIvkTsA8EAMrZ9+s",
      "include_colab_link": true
    },
    "kernelspec": {
      "name": "python3",
      "display_name": "Python 3"
    },
    "language_info": {
      "name": "python"
    }
  },
  "cells": [
    {
      "cell_type": "markdown",
      "metadata": {
        "id": "view-in-github",
        "colab_type": "text"
      },
      "source": [
        "<a href=\"https://colab.research.google.com/github/saeu5407/daily_tensorflow/blob/main/text_classification.ipynb\" target=\"_parent\"><img src=\"https://colab.research.google.com/assets/colab-badge.svg\" alt=\"Open In Colab\"/></a>"
      ]
    },
    {
      "cell_type": "markdown",
      "metadata": {
        "id": "JsHMcYMwIMx1"
      },
      "source": [
        "# 텐서플로우 튜토리얼\n",
        "### 기초 텍스트 분류기 생성 예제\n",
        "주석달면서 조금 더 다듬기\n",
        "\n",
        "텐서플로우 원본 링크 : https://www.tensorflow.org/tutorials/keras/text_classification?hl=ko"
      ]
    },
    {
      "cell_type": "code",
      "metadata": {
        "id": "Mk76z8wjGAbj"
      },
      "source": [
        "import matplotlib.pyplot as plt\n",
        "import os\n",
        "import re\n",
        "import shutil # 파일, 폴더 복사용 패키지, 쉘 유틸리티\n",
        "import string\n",
        "import tensorflow as tf\n",
        "\n",
        "from tensorflow.keras import layers\n",
        "from tensorflow.keras import losses\n",
        "from tensorflow.keras import preprocessing\n",
        "from tensorflow.keras.layers.experimental.preprocessing import TextVectorization"
      ],
      "execution_count": 1,
      "outputs": []
    },
    {
      "cell_type": "markdown",
      "metadata": {
        "id": "3PMP6wVNGIEZ"
      },
      "source": [
        "### 데이터 전처리 샘플"
      ]
    },
    {
      "cell_type": "code",
      "metadata": {
        "colab": {
          "base_uri": "https://localhost:8080/"
        },
        "id": "J4cESCIPGD-L",
        "outputId": "24c0dd98-c6ab-4b3c-9596-a528e9ef4f65"
      },
      "source": [
        "# 다운로드 URL\n",
        "url = \"https://ai.stanford.edu/~amaas/data/sentiment/aclImdb_v1.tar.gz\"\n",
        "\n",
        "# 데이터셋 다운로드\n",
        "dataset = tf.keras.utils.get_file(\"aclImdb_v1\", url,\n",
        "                                    untar=True, cache_dir='.',\n",
        "                                    cache_subdir='')\n",
        "# 데이터셋 경로\n",
        "dataset_dir = os.path.join(os.path.dirname(dataset), 'aclImdb')\n",
        "os.listdir(dataset_dir)\n",
        "\n",
        "# TRAIN SET 경로\n",
        "train_dir = os.path.join(dataset_dir, 'train')\n",
        "os.listdir(train_dir)\n",
        "\n",
        "# 트레이닝 셋 중 샘플 경로\n",
        "sample_file = os.path.join(train_dir, 'pos/1181_9.txt')\n",
        "with open(sample_file) as f:\n",
        "  print(f.read())"
      ],
      "execution_count": 2,
      "outputs": [
        {
          "output_type": "stream",
          "name": "stdout",
          "text": [
            "Rachel Griffiths writes and directs this award winning short film. A heartwarming story about coping with grief and cherishing the memory of those we've loved and lost. Although, only 15 minutes long, Griffiths manages to capture so much emotion and truth onto film in the short space of time. Bud Tingwell gives a touching performance as Will, a widower struggling to cope with his wife's death. Will is confronted by the harsh reality of loneliness and helplessness as he proceeds to take care of Ruth's pet cow, Tulip. The film displays the grief and responsibility one feels for those they have loved and lost. Good cinematography, great direction, and superbly acted. It will bring tears to all those who have lost a loved one, and survived.\n"
          ]
        }
      ]
    },
    {
      "cell_type": "code",
      "metadata": {
        "id": "mgbiEOcEGoFh"
      },
      "source": [
        "# 뽑아온 데이터셋에 필요없는 데이터들이 있어 제거\n",
        "remove_dir = os.path.join(train_dir, 'unsup')\n",
        "shutil.rmtree(remove_dir) # shutil을 사용하는 모습"
      ],
      "execution_count": 3,
      "outputs": []
    },
    {
      "cell_type": "code",
      "metadata": {
        "colab": {
          "base_uri": "https://localhost:8080/"
        },
        "id": "cxT_4BP5G1Sd",
        "outputId": "8f7cd345-cfbf-4a83-c28c-9687c84006d0"
      },
      "source": [
        "# text_dataset_from_directory 사용하여 데이터 로드 및 분할\n",
        "\"\"\"\n",
        "text_dataset_from_directory : 폴더별로 정리되어 있는 텍스트 데이터를 로드, 분할하는 함수(이미지데이터에도 비슷한거 있음)\n",
        "\n",
        "tf.keras.utils.text_dataset_from_directory(\n",
        "    directory,              # 디렉토리 경로\n",
        "    labels='inferred',      # 라벨링을 어떻게 할 지 / inferred는 폴더명 참고\n",
        "    label_mode='int',       # 라벨 인코딩 방식\n",
        "    class_names=None,       # labels='inferred'일 때 사용, 클래스 순서 제어용\n",
        "    batch_size=32,          # 배치 사이즈\n",
        "    max_length=None,        # 단어 최대길이\n",
        "    shuffle=True,           # 섞을지 여부\n",
        "    seed=None,              # 일 때 무작위 시드\n",
        "    validation_split=None,  # 검증 세트 스플릿 여부\n",
        "    subset=None,            # 'training' 또는 'validation' 세트 여부\n",
        "    follow_links=False      # 하위 디렉토리까지 찾아보는지 여부? 정확하지 않음\n",
        ")\n",
        "\"\"\"\n",
        "batch_size = 32\n",
        "seed = 42 # 랜덤 시드와 배치사이즈를 고정하는 모습\n",
        "\n",
        "raw_train_ds = tf.keras.preprocessing.text_dataset_from_directory(\n",
        "    'aclImdb/train', \n",
        "    batch_size=batch_size, \n",
        "    validation_split=0.2, \n",
        "    subset='training', # 트레이닝셋이라는 걸 명시\n",
        "    seed=seed)"
      ],
      "execution_count": 4,
      "outputs": [
        {
          "output_type": "stream",
          "name": "stdout",
          "text": [
            "Found 25000 files belonging to 2 classes.\n",
            "Using 20000 files for training.\n"
          ]
        }
      ]
    },
    {
      "cell_type": "code",
      "metadata": {
        "colab": {
          "base_uri": "https://localhost:8080/"
        },
        "id": "Qf5M_8btHLkO",
        "outputId": "83a851c8-4903-4b04-bd98-676e73315888"
      },
      "source": [
        "# 샘플 프린트\n",
        "for text_batch, label_batch in raw_train_ds.take(1): # take로 배치 하나를 뽑아낼 수 있는 것으로 보임\n",
        "  for i in range(3):\n",
        "    print(\"Review\", text_batch.numpy()[i])\n",
        "    print(\"Label\", label_batch.numpy()[i])"
      ],
      "execution_count": 5,
      "outputs": [
        {
          "output_type": "stream",
          "name": "stdout",
          "text": [
            "Review b'\"Pandemonium\" is a horror movie spoof that comes off more stupid than funny. Believe me when I tell you, I love comedies. Especially comedy spoofs. \"Airplane\", \"The Naked Gun\" trilogy, \"Blazing Saddles\", \"High Anxiety\", and \"Spaceballs\" are some of my favorite comedies that spoof a particular genre. \"Pandemonium\" is not up there with those films. Most of the scenes in this movie had me sitting there in stunned silence because the movie wasn\\'t all that funny. There are a few laughs in the film, but when you watch a comedy, you expect to laugh a lot more than a few times and that\\'s all this film has going for it. Geez, \"Scream\" had more laughs than this film and that was more of a horror film. How bizarre is that?<br /><br />*1/2 (out of four)'\n",
            "Label 0\n",
            "Review b\"David Mamet is a very interesting and a very un-equal director. His first movie 'House of Games' was the one I liked best, and it set a series of films with characters whose perspective of life changes as they get into complicated situations, and so does the perspective of the viewer.<br /><br />So is 'Homicide' which from the title tries to set the mind of the viewer to the usual crime drama. The principal characters are two cops, one Jewish and one Irish who deal with a racially charged area. The murder of an old Jewish shop owner who proves to be an ancient veteran of the Israeli Independence war triggers the Jewish identity in the mind and heart of the Jewish detective.<br /><br />This is were the flaws of the film are the more obvious. The process of awakening is theatrical and hard to believe, the group of Jewish militants is operatic, and the way the detective eventually walks to the final violent confrontation is pathetic. The end of the film itself is Mamet-like smart, but disappoints from a human emotional perspective.<br /><br />Joe Mantegna and William Macy give strong performances, but the flaws of the story are too evident to be easily compensated.\"\n",
            "Label 0\n",
            "Review b'Great documentary about the lives of NY firefighters during the worst terrorist attack of all time.. That reason alone is why this should be a must see collectors item.. What shocked me was not only the attacks, but the\"High Fat Diet\" and physical appearance of some of these firefighters. I think a lot of Doctors would agree with me that,in the physical shape they were in, some of these firefighters would NOT of made it to the 79th floor carrying over 60 lbs of gear. Having said that i now have a greater respect for firefighters and i realize becoming a firefighter is a life altering job. The French have a history of making great documentary\\'s and that is what this is, a Great Documentary.....'\n",
            "Label 1\n"
          ]
        }
      ]
    },
    {
      "cell_type": "code",
      "metadata": {
        "colab": {
          "base_uri": "https://localhost:8080/"
        },
        "id": "ekiUreP9HPZg",
        "outputId": "991d988e-a17a-4718-c86f-33863e319d1f"
      },
      "source": [
        "# 긍,부정 레이블별 클래스명\n",
        "print(\"Label 0 corresponds to\", raw_train_ds.class_names[0])\n",
        "print(\"Label 1 corresponds to\", raw_train_ds.class_names[1])"
      ],
      "execution_count": 6,
      "outputs": [
        {
          "output_type": "stream",
          "name": "stdout",
          "text": [
            "Label 0 corresponds to neg\n",
            "Label 1 corresponds to pos\n"
          ]
        }
      ]
    },
    {
      "cell_type": "code",
      "metadata": {
        "colab": {
          "base_uri": "https://localhost:8080/"
        },
        "id": "YUy9SIdnHyWc",
        "outputId": "ce2e5481-f5a5-4762-e127-79cf022170e7"
      },
      "source": [
        "# 검증 데이터 세트 생성\n",
        "raw_val_ds = tf.keras.preprocessing.text_dataset_from_directory(\n",
        "    'aclImdb/train', \n",
        "    batch_size=batch_size, \n",
        "    validation_split=0.2, \n",
        "    subset='validation', # validataion set 명시\n",
        "    seed=seed)\n",
        "\n",
        "# 테스트 데이터 세트 생성\n",
        "raw_test_ds = tf.keras.preprocessing.text_dataset_from_directory(\n",
        "    'aclImdb/test', \n",
        "    batch_size=batch_size) # test set은 따로 명시하지 않음, validation_split이 필요할 때만 해당 옵션을 쓰는 것으로 보임."
      ],
      "execution_count": 7,
      "outputs": [
        {
          "output_type": "stream",
          "name": "stdout",
          "text": [
            "Found 25000 files belonging to 2 classes.\n",
            "Using 5000 files for validation.\n",
            "Found 25000 files belonging to 2 classes.\n"
          ]
        }
      ]
    },
    {
      "cell_type": "code",
      "metadata": {
        "id": "497BvDN9IXUB",
        "outputId": "a61ce026-66af-44c5-f7df-9d7b271c82c3",
        "colab": {
          "base_uri": "https://localhost:8080/",
          "height": 35
        }
      },
      "source": [
        "# 테스트 데이터 전처리\n",
        "\n",
        "# 토큰 등 제거하여 데이터 정제\n",
        "def custom_standardization(input_data):\n",
        "  lowercase = tf.strings.lower(input_data) # 모두 소문자로 변경\n",
        "  stripped_html = tf.strings.regex_replace(lowercase, '<br />', ' ') # <br />등을 제거\n",
        "  return tf.strings.regex_replace(stripped_html,\n",
        "                                  '[%s]' % re.escape(string.punctuation), # string.punctuation : 구두점을 의미합니다. # re.escape : 이스케이프 처리 \\처럼.\n",
        "                                  '')\n",
        "\"\"\"\n",
        "위의 '[%s]' % re.escape(string.punctuation) 쪽이 이해가 안갔는데,\n",
        "사실상 % 의 기능이 .format()과 같다고 한다.\n",
        "즉 위의 뜻은 '{%s}'.format(re.escape(string.punctuation)) 과 같다.\n",
        "뒤에 저 단어들만 뽑아오겠다는 뜻.\n",
        "\"\"\""
      ],
      "execution_count": 8,
      "outputs": [
        {
          "output_type": "execute_result",
          "data": {
            "application/vnd.google.colaboratory.intrinsic+json": {
              "type": "string"
            },
            "text/plain": [
              "\"\\n위의 '[%s]' % re.escape(string.punctuation) 쪽이 이해가 안갔는데,\\n사실상 % 의 기능이 .format()과 같다고 한다.\\n즉 위의 뜻은 '{%s}'.format(re.escape(string.punctuation)) 과 같다.\\n뒤에 저 단어들만 뽑아오겠다는 뜻.\\n\""
            ]
          },
          "metadata": {},
          "execution_count": 8
        }
      ]
    },
    {
      "cell_type": "code",
      "metadata": {
        "colab": {
          "base_uri": "https://localhost:8080/"
        },
        "id": "a4vJ9je_IXWP",
        "outputId": "5641ab6d-bd5c-436d-870a-5a2eb6b7ade1"
      },
      "source": [
        "# custom_standardization 샘플\n",
        "print(text_batch.numpy()[0])\n",
        "print(custom_standardization(text_batch.numpy()[0]))"
      ],
      "execution_count": 9,
      "outputs": [
        {
          "output_type": "stream",
          "name": "stdout",
          "text": [
            "b'\"Pandemonium\" is a horror movie spoof that comes off more stupid than funny. Believe me when I tell you, I love comedies. Especially comedy spoofs. \"Airplane\", \"The Naked Gun\" trilogy, \"Blazing Saddles\", \"High Anxiety\", and \"Spaceballs\" are some of my favorite comedies that spoof a particular genre. \"Pandemonium\" is not up there with those films. Most of the scenes in this movie had me sitting there in stunned silence because the movie wasn\\'t all that funny. There are a few laughs in the film, but when you watch a comedy, you expect to laugh a lot more than a few times and that\\'s all this film has going for it. Geez, \"Scream\" had more laughs than this film and that was more of a horror film. How bizarre is that?<br /><br />*1/2 (out of four)'\n",
            "tf.Tensor(b'pandemonium is a horror movie spoof that comes off more stupid than funny believe me when i tell you i love comedies especially comedy spoofs airplane the naked gun trilogy blazing saddles high anxiety and spaceballs are some of my favorite comedies that spoof a particular genre pandemonium is not up there with those films most of the scenes in this movie had me sitting there in stunned silence because the movie wasnt all that funny there are a few laughs in the film but when you watch a comedy you expect to laugh a lot more than a few times and thats all this film has going for it geez scream had more laughs than this film and that was more of a horror film how bizarre is that  12 out of four', shape=(), dtype=string)\n"
          ]
        }
      ]
    },
    {
      "cell_type": "code",
      "metadata": {
        "id": "FNTOEcdmKPxi"
      },
      "source": [
        "# Text Vectorization 수행\n",
        "# 표준화, 토큰화, 벡터화를 수행합니다.\n",
        "max_features = 10000\n",
        "sequence_length = 250\n",
        "\n",
        "vectorize_layer = TextVectorization(\n",
        "    standardize=custom_standardization, # standardize 즉 표준화를 우리가 만든 함수를 사용하여 작업한다는 뜻\n",
        "    max_tokens=max_features, # 어휘의 최대 크기, 단어 사전 수\n",
        "    output_mode='int',\n",
        "    output_sequence_length=sequence_length) # 시퀀스의 최대 길이"
      ],
      "execution_count": 10,
      "outputs": []
    },
    {
      "cell_type": "code",
      "metadata": {
        "id": "gScy_ODKL6HY"
      },
      "source": [
        "# 전처리 레이어의 상태를 Train Set에 맞추기\n",
        "# 훈련 전에 적응(Adaptation)하기 위해 쓰기에 adapt이라고 부르는 메서드를 사용합니다.\n",
        "# 해당 메서드는 Test set 등이 아닌 Train set에만 적용해서 Data Leakeage를 막아야 합니다.\n",
        "train_text = raw_train_ds.map(lambda x, y: x)\n",
        "vectorize_layer.adapt(train_text)"
      ],
      "execution_count": 11,
      "outputs": []
    },
    {
      "cell_type": "code",
      "metadata": {
        "colab": {
          "base_uri": "https://localhost:8080/"
        },
        "id": "4ruRqxJ3MxdS",
        "outputId": "41b9fc5f-900c-4525-d799-965081616a02"
      },
      "source": [
        "# 이에 대한 샘플\n",
        "def vectorize_text(text, label):\n",
        "  text = tf.expand_dims(text, -1)\n",
        "  return vectorize_layer(text), label\n",
        "\n",
        "# retrieve a batch (of 32 reviews and labels) from the dataset\n",
        "text_batch, label_batch = next(iter(raw_train_ds))\n",
        "first_review, first_label = text_batch[0], label_batch[0]\n",
        "print(\"Review\", first_review)\n",
        "print(\"Label\", raw_train_ds.class_names[first_label])\n",
        "print(\"Vectorized review\", vectorize_text(first_review, first_label))"
      ],
      "execution_count": 12,
      "outputs": [
        {
          "output_type": "stream",
          "name": "stdout",
          "text": [
            "Review tf.Tensor(b'Great movie - especially the music - Etta James - \"At Last\". This speaks volumes when you have finally found that special someone.', shape=(), dtype=string)\n",
            "Label neg\n",
            "Vectorized review (<tf.Tensor: shape=(1, 250), dtype=int64, numpy=\n",
            "array([[  86,   17,  260,    2,  222,    1,  571,   31,  229,   11, 2418,\n",
            "           1,   51,   22,   25,  404,  251,   12,  306,  282,    0,    0,\n",
            "           0,    0,    0,    0,    0,    0,    0,    0,    0,    0,    0,\n",
            "           0,    0,    0,    0,    0,    0,    0,    0,    0,    0,    0,\n",
            "           0,    0,    0,    0,    0,    0,    0,    0,    0,    0,    0,\n",
            "           0,    0,    0,    0,    0,    0,    0,    0,    0,    0,    0,\n",
            "           0,    0,    0,    0,    0,    0,    0,    0,    0,    0,    0,\n",
            "           0,    0,    0,    0,    0,    0,    0,    0,    0,    0,    0,\n",
            "           0,    0,    0,    0,    0,    0,    0,    0,    0,    0,    0,\n",
            "           0,    0,    0,    0,    0,    0,    0,    0,    0,    0,    0,\n",
            "           0,    0,    0,    0,    0,    0,    0,    0,    0,    0,    0,\n",
            "           0,    0,    0,    0,    0,    0,    0,    0,    0,    0,    0,\n",
            "           0,    0,    0,    0,    0,    0,    0,    0,    0,    0,    0,\n",
            "           0,    0,    0,    0,    0,    0,    0,    0,    0,    0,    0,\n",
            "           0,    0,    0,    0,    0,    0,    0,    0,    0,    0,    0,\n",
            "           0,    0,    0,    0,    0,    0,    0,    0,    0,    0,    0,\n",
            "           0,    0,    0,    0,    0,    0,    0,    0,    0,    0,    0,\n",
            "           0,    0,    0,    0,    0,    0,    0,    0,    0,    0,    0,\n",
            "           0,    0,    0,    0,    0,    0,    0,    0,    0,    0,    0,\n",
            "           0,    0,    0,    0,    0,    0,    0,    0,    0,    0,    0,\n",
            "           0,    0,    0,    0,    0,    0,    0,    0,    0,    0,    0,\n",
            "           0,    0,    0,    0,    0,    0,    0,    0,    0,    0,    0,\n",
            "           0,    0,    0,    0,    0,    0,    0,    0]])>, <tf.Tensor: shape=(), dtype=int32, numpy=0>)\n"
          ]
        }
      ]
    },
    {
      "cell_type": "code",
      "metadata": {
        "colab": {
          "base_uri": "https://localhost:8080/"
        },
        "id": "Qm0NIOZWM3S7",
        "outputId": "349e8413-a77e-4aa2-c2f4-1b9d4fede924"
      },
      "source": [
        "print(\"1287 ---> \",vectorize_layer.get_vocabulary()[1287])\n",
        "print(\" 313 ---> \",vectorize_layer.get_vocabulary()[313])\n",
        "print('Vocabulary size: {}'.format(len(vectorize_layer.get_vocabulary())))"
      ],
      "execution_count": 13,
      "outputs": [
        {
          "output_type": "stream",
          "name": "stdout",
          "text": [
            "1287 --->  silent\n",
            " 313 --->  night\n",
            "Vocabulary size: 10000\n"
          ]
        }
      ]
    },
    {
      "cell_type": "code",
      "metadata": {
        "id": "uGN67pzsNCSr"
      },
      "source": [
        "# 데이터 전처리 수행\n",
        "train_ds = raw_train_ds.map(vectorize_text)\n",
        "val_ds = raw_val_ds.map(vectorize_text)\n",
        "test_ds = raw_test_ds.map(vectorize_text)"
      ],
      "execution_count": 14,
      "outputs": []
    },
    {
      "cell_type": "code",
      "metadata": {
        "id": "ng_OSzRNNT53"
      },
      "source": [
        "### 추가 ###\n",
        "# I/O가 차단되지 않도록 데이터를 로드할 때 사용해야 하는 두 가지 중요한 메서드가 존재합니다.\n",
        "\n",
        "# .cache() : 데이터가 디스크에서 로드된 후 메모리에 데이터를 보관하는 메서드. 이렇게 하면 모델을 훈련하는 동안 데이터세트로 인해 병목 현상이 발생하지 않습니다. \n",
        "# 데이터세트가 너무 커서 메모리에 맞지 않는 경우, 이 메서드를 사용하여 성능이 뛰어난 온 디스크 캐시를 생성할 수도 있습니다. 많은 작은 파일보다 읽기가 더 효율적입니다.\n",
        "\n",
        "# .prefetch() : 훈련 중에 다음 배치 스텝의 데이터를 읽어옵니다. 속도 향상.\n",
        "AUTOTUNE = tf.data.AUTOTUNE\n",
        "\n",
        "train_ds = train_ds.cache().prefetch(buffer_size=AUTOTUNE)\n",
        "val_ds = val_ds.cache().prefetch(buffer_size=AUTOTUNE)\n",
        "test_ds = test_ds.cache().prefetch(buffer_size=AUTOTUNE)"
      ],
      "execution_count": 15,
      "outputs": []
    },
    {
      "cell_type": "markdown",
      "metadata": {
        "id": "DNQBuxOaOYKa"
      },
      "source": [
        "### 모델링"
      ]
    },
    {
      "cell_type": "code",
      "metadata": {
        "colab": {
          "base_uri": "https://localhost:8080/"
        },
        "id": "QNZ-D5rXOOIO",
        "outputId": "505c02ae-4aaa-4215-f5df-280fe4319302"
      },
      "source": [
        "embedding_dim = 16\n",
        "\n",
        "model = tf.keras.Sequential([\n",
        "  layers.Embedding(max_features + 1, embedding_dim), \n",
        "  # Embedding 층은 정수로 인코딩된 단어를 입력 받고 각 단어 인덱스에 해당하는 임베딩 벡터를 찾습니다. \n",
        "  # 이 벡터는 모델이 훈련되면서 학습됩니다. 이 벡터는 출력 배열에 새로운 차원으로 추가됩니다. 최종 차원은 (batch, sequence, embedding)이 됩니다.\n",
        "  layers.Dropout(0.2),\n",
        "  layers.GlobalAveragePooling1D(),\n",
        "  # GlobalAveragePooling1D 층은 sequence 차원에 대해 평균을 계산하여 각 샘플에 대해 고정된 길이의 출력 벡터를 반환합니다. \n",
        "  # 길이가 다른 입력을 다루는 가장 간단한 방법이라고 합니다.\n",
        "  layers.Dropout(0.2),\n",
        "  layers.Dense(1)]) # 최종 16개 레이어를 1개로 줄이는 FC레이어로 마무리합니다.\n",
        "\n",
        "model.summary()"
      ],
      "execution_count": 16,
      "outputs": [
        {
          "output_type": "stream",
          "name": "stdout",
          "text": [
            "Model: \"sequential\"\n",
            "_________________________________________________________________\n",
            "Layer (type)                 Output Shape              Param #   \n",
            "=================================================================\n",
            "embedding (Embedding)        (None, None, 16)          160016    \n",
            "_________________________________________________________________\n",
            "dropout (Dropout)            (None, None, 16)          0         \n",
            "_________________________________________________________________\n",
            "global_average_pooling1d (Gl (None, 16)                0         \n",
            "_________________________________________________________________\n",
            "dropout_1 (Dropout)          (None, 16)                0         \n",
            "_________________________________________________________________\n",
            "dense (Dense)                (None, 1)                 17        \n",
            "=================================================================\n",
            "Total params: 160,033\n",
            "Trainable params: 160,033\n",
            "Non-trainable params: 0\n",
            "_________________________________________________________________\n"
          ]
        }
      ]
    },
    {
      "cell_type": "code",
      "metadata": {
        "id": "eQ0pgeuXOZM1"
      },
      "source": [
        "model.compile(loss=losses.BinaryCrossentropy(from_logits=True),\n",
        "              optimizer='adam',\n",
        "              metrics=tf.metrics.BinaryAccuracy(threshold=0.0))"
      ],
      "execution_count": 17,
      "outputs": []
    },
    {
      "cell_type": "code",
      "metadata": {
        "colab": {
          "base_uri": "https://localhost:8080/"
        },
        "id": "JItHhv_1PdjL",
        "outputId": "b20907f9-051c-47f4-ed2d-d32ae0935432"
      },
      "source": [
        "# 훈련 단계\n",
        "history = model.fit(train_ds,\n",
        "                    epochs=40,\n",
        "                    batch_size=512,\n",
        "                    verbose=1)"
      ],
      "execution_count": 20,
      "outputs": [
        {
          "output_type": "stream",
          "name": "stdout",
          "text": [
            "Epoch 1/40\n",
            "625/625 [==============================] - 11s 15ms/step - loss: 0.6641 - binary_accuracy: 0.6963\n",
            "Epoch 2/40\n",
            "625/625 [==============================] - 4s 7ms/step - loss: 0.5509 - binary_accuracy: 0.8015\n",
            "Epoch 3/40\n",
            "625/625 [==============================] - 4s 7ms/step - loss: 0.4473 - binary_accuracy: 0.8447\n",
            "Epoch 4/40\n",
            "625/625 [==============================] - 4s 7ms/step - loss: 0.3801 - binary_accuracy: 0.8641\n",
            "Epoch 5/40\n",
            "625/625 [==============================] - 4s 7ms/step - loss: 0.3369 - binary_accuracy: 0.8794\n",
            "Epoch 6/40\n",
            "625/625 [==============================] - 4s 6ms/step - loss: 0.3047 - binary_accuracy: 0.8895\n",
            "Epoch 7/40\n",
            "625/625 [==============================] - 4s 7ms/step - loss: 0.2820 - binary_accuracy: 0.8957\n",
            "Epoch 8/40\n",
            "625/625 [==============================] - 4s 7ms/step - loss: 0.2631 - binary_accuracy: 0.9039\n",
            "Epoch 9/40\n",
            "625/625 [==============================] - 4s 6ms/step - loss: 0.2457 - binary_accuracy: 0.9118\n",
            "Epoch 10/40\n",
            "625/625 [==============================] - 4s 6ms/step - loss: 0.2316 - binary_accuracy: 0.9158\n",
            "Epoch 11/40\n",
            "625/625 [==============================] - 4s 6ms/step - loss: 0.2197 - binary_accuracy: 0.9211\n",
            "Epoch 12/40\n",
            "625/625 [==============================] - 4s 6ms/step - loss: 0.2068 - binary_accuracy: 0.9262\n",
            "Epoch 13/40\n",
            "625/625 [==============================] - 4s 6ms/step - loss: 0.1963 - binary_accuracy: 0.9301\n",
            "Epoch 14/40\n",
            "625/625 [==============================] - 4s 6ms/step - loss: 0.1875 - binary_accuracy: 0.9340\n",
            "Epoch 15/40\n",
            "625/625 [==============================] - 4s 6ms/step - loss: 0.1784 - binary_accuracy: 0.9381\n",
            "Epoch 16/40\n",
            "625/625 [==============================] - 4s 6ms/step - loss: 0.1704 - binary_accuracy: 0.9416\n",
            "Epoch 17/40\n",
            "625/625 [==============================] - 4s 6ms/step - loss: 0.1626 - binary_accuracy: 0.9452\n",
            "Epoch 18/40\n",
            "625/625 [==============================] - 4s 6ms/step - loss: 0.1554 - binary_accuracy: 0.9470\n",
            "Epoch 19/40\n",
            "625/625 [==============================] - 4s 6ms/step - loss: 0.1482 - binary_accuracy: 0.9513\n",
            "Epoch 20/40\n",
            "625/625 [==============================] - 4s 6ms/step - loss: 0.1407 - binary_accuracy: 0.9535\n",
            "Epoch 21/40\n",
            "625/625 [==============================] - 4s 6ms/step - loss: 0.1351 - binary_accuracy: 0.9554\n",
            "Epoch 22/40\n",
            "625/625 [==============================] - 4s 6ms/step - loss: 0.1295 - binary_accuracy: 0.9578\n",
            "Epoch 23/40\n",
            "625/625 [==============================] - 4s 6ms/step - loss: 0.1247 - binary_accuracy: 0.9593\n",
            "Epoch 24/40\n",
            "625/625 [==============================] - 4s 6ms/step - loss: 0.1197 - binary_accuracy: 0.9628\n",
            "Epoch 25/40\n",
            "625/625 [==============================] - 4s 6ms/step - loss: 0.1139 - binary_accuracy: 0.9643\n",
            "Epoch 26/40\n",
            "625/625 [==============================] - 4s 6ms/step - loss: 0.1083 - binary_accuracy: 0.9675\n",
            "Epoch 27/40\n",
            "625/625 [==============================] - 5s 8ms/step - loss: 0.1037 - binary_accuracy: 0.9688\n",
            "Epoch 28/40\n",
            "625/625 [==============================] - 5s 8ms/step - loss: 0.0984 - binary_accuracy: 0.9700\n",
            "Epoch 29/40\n",
            "625/625 [==============================] - 5s 7ms/step - loss: 0.0950 - binary_accuracy: 0.9719\n",
            "Epoch 30/40\n",
            "625/625 [==============================] - 5s 8ms/step - loss: 0.0911 - binary_accuracy: 0.9740\n",
            "Epoch 31/40\n",
            "625/625 [==============================] - 5s 7ms/step - loss: 0.0870 - binary_accuracy: 0.9748\n",
            "Epoch 32/40\n",
            "625/625 [==============================] - 4s 7ms/step - loss: 0.0826 - binary_accuracy: 0.9770\n",
            "Epoch 33/40\n",
            "625/625 [==============================] - 4s 7ms/step - loss: 0.0792 - binary_accuracy: 0.9776\n",
            "Epoch 34/40\n",
            "625/625 [==============================] - 4s 7ms/step - loss: 0.0763 - binary_accuracy: 0.9786\n",
            "Epoch 35/40\n",
            "625/625 [==============================] - 5s 8ms/step - loss: 0.0735 - binary_accuracy: 0.9800\n",
            "Epoch 36/40\n",
            "625/625 [==============================] - 5s 8ms/step - loss: 0.0692 - binary_accuracy: 0.9821\n",
            "Epoch 37/40\n",
            "625/625 [==============================] - 5s 7ms/step - loss: 0.0665 - binary_accuracy: 0.9827\n",
            "Epoch 38/40\n",
            "625/625 [==============================] - 4s 7ms/step - loss: 0.0635 - binary_accuracy: 0.9836\n",
            "Epoch 39/40\n",
            "625/625 [==============================] - 4s 6ms/step - loss: 0.0607 - binary_accuracy: 0.9844\n",
            "Epoch 40/40\n",
            "625/625 [==============================] - 4s 6ms/step - loss: 0.0572 - binary_accuracy: 0.9859\n"
          ]
        }
      ]
    },
    {
      "cell_type": "code",
      "metadata": {
        "id": "j9XIQC7IPhpN",
        "outputId": "88c8a97b-fbab-4386-ddca-6d6cf087d989",
        "colab": {
          "base_uri": "https://localhost:8080/"
        }
      },
      "source": [
        "loss, accuracy = model.evaluate(test_ds)\n",
        "\n",
        "print(\"Loss: \", loss)\n",
        "print(\"Accuracy: \", accuracy)"
      ],
      "execution_count": 21,
      "outputs": [
        {
          "output_type": "stream",
          "name": "stdout",
          "text": [
            "782/782 [==============================] - 8s 10ms/step - loss: 0.5336 - binary_accuracy: 0.8463\n",
            "Loss:  0.5335999727249146\n",
            "Accuracy:  0.8462799787521362\n"
          ]
        }
      ]
    },
    {
      "cell_type": "code",
      "metadata": {
        "id": "Rku3GDqUPu5z",
        "outputId": "798fbc9d-1f31-4ef0-df5a-b30bad1a0b77",
        "colab": {
          "base_uri": "https://localhost:8080/"
        }
      },
      "source": [
        "# 모델 내보내기\n",
        "export_model = tf.keras.Sequential([\n",
        "  vectorize_layer,\n",
        "  model,\n",
        "  layers.Activation('sigmoid')\n",
        "])\n",
        "\n",
        "export_model.compile(\n",
        "    loss=losses.BinaryCrossentropy(from_logits=False), optimizer=\"adam\", metrics=['accuracy']\n",
        ")\n",
        "\n",
        "# Test it with `raw_test_ds`, which yields raw strings\n",
        "loss, accuracy = export_model.evaluate(raw_test_ds)\n",
        "print(accuracy)"
      ],
      "execution_count": 24,
      "outputs": [
        {
          "output_type": "stream",
          "name": "stdout",
          "text": [
            "782/782 [==============================] - 8s 10ms/step - loss: 0.5336 - accuracy: 0.8463\n",
            "0.8462799787521362\n"
          ]
        }
      ]
    },
    {
      "cell_type": "code",
      "metadata": {
        "id": "1ikm0PUHPu73",
        "outputId": "748cea3c-d816-444a-9bf6-c3099eb07f34",
        "colab": {
          "base_uri": "https://localhost:8080/"
        }
      },
      "source": [
        "# 새로운 데이터로 추론\n",
        "examples = [\n",
        "  \"The movie was great!\",\n",
        "  \"The movie was okay.\",\n",
        "  \"The movie was terrible...\"\n",
        "]\n",
        "\n",
        "export_model.predict(examples)"
      ],
      "execution_count": 25,
      "outputs": [
        {
          "output_type": "execute_result",
          "data": {
            "text/plain": [
              "array([[0.70060325],\n",
              "       [0.32022655],\n",
              "       [0.22488159]], dtype=float32)"
            ]
          },
          "metadata": {},
          "execution_count": 25
        }
      ]
    }
  ]
}